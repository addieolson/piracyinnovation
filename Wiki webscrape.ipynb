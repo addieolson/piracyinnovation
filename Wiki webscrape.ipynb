{
 "cells": [
  {
   "cell_type": "markdown",
   "metadata": {},
   "source": [
    "# Webscraping MS Office Version History table with python\n",
    "Addie Olson\n"
   ]
  },
  {
   "cell_type": "markdown",
   "metadata": {},
   "source": [
    "First, download the necessary packages: BeautifulSoup, Pandas, and Requests."
   ]
  },
  {
   "cell_type": "code",
   "execution_count": 3,
   "metadata": {},
   "outputs": [],
   "source": [
    "from bs4 import BeautifulSoup"
   ]
  },
  {
   "cell_type": "code",
   "execution_count": 4,
   "metadata": {},
   "outputs": [],
   "source": [
    "import requests\n",
    "import pandas as pd"
   ]
  },
  {
   "cell_type": "markdown",
   "metadata": {},
   "source": [
    "Next, pull the xml code from the webpage and identify the tables in the page."
   ]
  },
  {
   "cell_type": "code",
   "execution_count": 33,
   "metadata": {
    "scrolled": true
   },
   "outputs": [],
   "source": [
    "WIKI_URL = \"https://en.wikipedia.org/wiki/History_of_Microsoft_Office\"\n",
    "\n",
    "req = requests.get(WIKI_URL)\n",
    "soup = BeautifulSoup(req.content, 'lxml')\n",
    "table_classes = {\"class\": [\"wikitable\"]}\n",
    "wikitables = soup.findAll(\"table\", table_classes)\n",
    "\n",
    "\n"
   ]
  },
  {
   "cell_type": "markdown",
   "metadata": {},
   "source": [
    "Build the dataframe, cleaning footnotes and links from the cell contents. "
   ]
  },
  {
   "cell_type": "code",
   "execution_count": 27,
   "metadata": {},
   "outputs": [],
   "source": [
    "cells = []\n",
    "for row in wikitables[0].find_all(\"tr\"):\n",
    "    cells.append(row.find_all([\"th\",\"td\"]))"
   ]
  },
  {
   "cell_type": "code",
   "execution_count": 28,
   "metadata": {},
   "outputs": [],
   "source": [
    "x = []\n",
    "for item in cells:\n",
    "    x.append(item)"
   ]
  },
  {
   "cell_type": "code",
   "execution_count": 29,
   "metadata": {},
   "outputs": [],
   "source": [
    "main = []\n",
    "for item in cells:\n",
    "    row = []\n",
    "    for x in item:\n",
    "        text=str(x.text)\n",
    "        if '[' in text:\n",
    "            text = text[:-3]\n",
    "           \n",
    "        row.append(text)\n",
    "    main.append(row)"
   ]
  },
  {
   "cell_type": "code",
   "execution_count": 30,
   "metadata": {},
   "outputs": [],
   "source": [
    "df = pd.DataFrame(main)"
   ]
  },
  {
   "cell_type": "code",
   "execution_count": 31,
   "metadata": {},
   "outputs": [
    {
     "data": {
      "text/html": [
       "<div>\n",
       "<style scoped>\n",
       "    .dataframe tbody tr th:only-of-type {\n",
       "        vertical-align: middle;\n",
       "    }\n",
       "\n",
       "    .dataframe tbody tr th {\n",
       "        vertical-align: top;\n",
       "    }\n",
       "\n",
       "    .dataframe thead th {\n",
       "        text-align: right;\n",
       "    }\n",
       "</style>\n",
       "<table border=\"1\" class=\"dataframe\">\n",
       "  <thead>\n",
       "    <tr style=\"text-align: right;\">\n",
       "      <th></th>\n",
       "      <th>0</th>\n",
       "      <th>1</th>\n",
       "      <th>2</th>\n",
       "      <th>3</th>\n",
       "    </tr>\n",
       "  </thead>\n",
       "  <tbody>\n",
       "    <tr>\n",
       "      <th>0</th>\n",
       "      <td>Release date</td>\n",
       "      <td>Title</td>\n",
       "      <td>Components</td>\n",
       "      <td>Notes</td>\n",
       "    </tr>\n",
       "    <tr>\n",
       "      <th>1</th>\n",
       "      <td>November 19, 1990</td>\n",
       "      <td>Office 1.0</td>\n",
       "      <td>Word 1.1, Excel 2.0, PowerPoint 2.0</td>\n",
       "      <td></td>\n",
       "    </tr>\n",
       "    <tr>\n",
       "      <th>2</th>\n",
       "      <td>March 4, 1991</td>\n",
       "      <td>Office 1.5</td>\n",
       "      <td>Word 1.1, Excel 3.0, PowerPoint 2.0</td>\n",
       "      <td></td>\n",
       "    </tr>\n",
       "    <tr>\n",
       "      <th>3</th>\n",
       "      <td>July 8, 1991</td>\n",
       "      <td>Office 1.6</td>\n",
       "      <td>Word 1.1, Excel 3.0, PowerPoint 2.0, Mail 2.1</td>\n",
       "      <td>Last version to support Windows 3.0</td>\n",
       "    </tr>\n",
       "    <tr>\n",
       "      <th>4</th>\n",
       "      <td>August 30, 1992</td>\n",
       "      <td>Office 3.0</td>\n",
       "      <td>Word 2.0c, Excel 4.0, PowerPoint 3.0, Mail 3.0</td>\n",
       "      <td>Later rebranded as Office 92</td>\n",
       "    </tr>\n",
       "    <tr>\n",
       "      <th>5</th>\n",
       "      <td>January 17, 1994</td>\n",
       "      <td>Office 4.0</td>\n",
       "      <td>Word 6.0, Excel 4.0, PowerPoint 3.0, Mail 3.1</td>\n",
       "      <td></td>\n",
       "    </tr>\n",
       "    <tr>\n",
       "      <th>6</th>\n",
       "      <td>June 2, 1994</td>\n",
       "      <td>Office 4.3</td>\n",
       "      <td>Word 6.0, Excel 5.0, PowerPoint 4.0, Mail 3.2,...</td>\n",
       "      <td>This is the last 16-bit version. This means th...</td>\n",
       "    </tr>\n",
       "    <tr>\n",
       "      <th>7</th>\n",
       "      <td>July 3, 1994</td>\n",
       "      <td>Office for NT 4.2</td>\n",
       "      <td>Word 6.0, Excel 5.0, PowerPoint 4.0, Office Ma...</td>\n",
       "      <td>Runs on Windows NT 3.5</td>\n",
       "    </tr>\n",
       "    <tr>\n",
       "      <th>8</th>\n",
       "      <td>August 24, 1995</td>\n",
       "      <td>Office 95 (7.0)</td>\n",
       "      <td>Word, Excel, PowerPoint, Schedule+, Binder, Ac...</td>\n",
       "      <td>Coincided with the Windows 95 operating system...</td>\n",
       "    </tr>\n",
       "    <tr>\n",
       "      <th>9</th>\n",
       "      <td>November 19, 1996</td>\n",
       "      <td>Office 97 (8.0)</td>\n",
       "      <td>Word 97, Word 98, Excel, Outlook, PowerPoint, ...</td>\n",
       "      <td>Was published on CD-ROM as well as on a set of...</td>\n",
       "    </tr>\n",
       "    <tr>\n",
       "      <th>10</th>\n",
       "      <td>June 20, 1997</td>\n",
       "      <td>Office 97 Powered by Word 98 (8.5)</td>\n",
       "      <td>Was released only in Japanese and Korean editi...</td>\n",
       "      <td>None</td>\n",
       "    </tr>\n",
       "    <tr>\n",
       "      <th>11</th>\n",
       "      <td>June 7, 1999</td>\n",
       "      <td>Office 2000 (9.0)</td>\n",
       "      <td>Word, Excel, Outlook, PowerPoint, Publisher, S...</td>\n",
       "      <td>First Version to Support Windows XP, Windows S...</td>\n",
       "    </tr>\n",
       "    <tr>\n",
       "      <th>12</th>\n",
       "      <td>May 31, 2001</td>\n",
       "      <td>Office XP (10.0)</td>\n",
       "      <td>Word, Excel, Outlook, PowerPoint, Access, Publ...</td>\n",
       "      <td>Last version to support Windows 98, Windows ME...</td>\n",
       "    </tr>\n",
       "    <tr>\n",
       "      <th>13</th>\n",
       "      <td>October 21, 2003</td>\n",
       "      <td>Office 2003 (11.0)</td>\n",
       "      <td>Word, Excel, Outlook, PowerPoint, Publisher, A...</td>\n",
       "      <td>First version to introduce Windows XP style ic...</td>\n",
       "    </tr>\n",
       "    <tr>\n",
       "      <th>14</th>\n",
       "      <td>January 30, 2007</td>\n",
       "      <td>Office 2007 (12.0)</td>\n",
       "      <td>Word, Excel, PowerPoint, Outlook, Publisher, A...</td>\n",
       "      <td>Broadly released alongside Windows Vista. Firs...</td>\n",
       "    </tr>\n",
       "    <tr>\n",
       "      <th>15</th>\n",
       "      <td>June 15, 2010</td>\n",
       "      <td>Office 2010 (14.0)</td>\n",
       "      <td>Word, Excel, PowerPoint, OneNote, Outlook, Pub...</td>\n",
       "      <td>This is the first version to ship in 32-bit an...</td>\n",
       "    </tr>\n",
       "    <tr>\n",
       "      <th>16</th>\n",
       "      <td>January 29, 2013</td>\n",
       "      <td>Office 2013 (15.0)</td>\n",
       "      <td>Word, Excel, PowerPoint, OneNote, Outlook, Pub...</td>\n",
       "      <td>Lync is replaced with Skype for Business after...</td>\n",
       "    </tr>\n",
       "    <tr>\n",
       "      <th>17</th>\n",
       "      <td>September 22, 2015</td>\n",
       "      <td>Office 2016 (16.0)</td>\n",
       "      <td>Word, Excel, PowerPoint, OneNote, Outlook, Pub...</td>\n",
       "      <td>Last version to support Windows 7, Windows 8, ...</td>\n",
       "    </tr>\n",
       "  </tbody>\n",
       "</table>\n",
       "</div>"
      ],
      "text/plain": [
       "                     0                                   1  \\\n",
       "0         Release date                               Title   \n",
       "1    November 19, 1990                          Office 1.0   \n",
       "2        March 4, 1991                          Office 1.5   \n",
       "3         July 8, 1991                          Office 1.6   \n",
       "4      August 30, 1992                          Office 3.0   \n",
       "5     January 17, 1994                          Office 4.0   \n",
       "6         June 2, 1994                          Office 4.3   \n",
       "7         July 3, 1994                   Office for NT 4.2   \n",
       "8      August 24, 1995                     Office 95 (7.0)   \n",
       "9    November 19, 1996                     Office 97 (8.0)   \n",
       "10       June 20, 1997  Office 97 Powered by Word 98 (8.5)   \n",
       "11        June 7, 1999                   Office 2000 (9.0)   \n",
       "12        May 31, 2001                    Office XP (10.0)   \n",
       "13    October 21, 2003                  Office 2003 (11.0)   \n",
       "14    January 30, 2007                  Office 2007 (12.0)   \n",
       "15       June 15, 2010                  Office 2010 (14.0)   \n",
       "16    January 29, 2013                  Office 2013 (15.0)   \n",
       "17  September 22, 2015                  Office 2016 (16.0)   \n",
       "\n",
       "                                                    2  \\\n",
       "0                                          Components   \n",
       "1                 Word 1.1, Excel 2.0, PowerPoint 2.0   \n",
       "2                 Word 1.1, Excel 3.0, PowerPoint 2.0   \n",
       "3       Word 1.1, Excel 3.0, PowerPoint 2.0, Mail 2.1   \n",
       "4      Word 2.0c, Excel 4.0, PowerPoint 3.0, Mail 3.0   \n",
       "5       Word 6.0, Excel 4.0, PowerPoint 3.0, Mail 3.1   \n",
       "6   Word 6.0, Excel 5.0, PowerPoint 4.0, Mail 3.2,...   \n",
       "7   Word 6.0, Excel 5.0, PowerPoint 4.0, Office Ma...   \n",
       "8   Word, Excel, PowerPoint, Schedule+, Binder, Ac...   \n",
       "9   Word 97, Word 98, Excel, Outlook, PowerPoint, ...   \n",
       "10  Was released only in Japanese and Korean editi...   \n",
       "11  Word, Excel, Outlook, PowerPoint, Publisher, S...   \n",
       "12  Word, Excel, Outlook, PowerPoint, Access, Publ...   \n",
       "13  Word, Excel, Outlook, PowerPoint, Publisher, A...   \n",
       "14  Word, Excel, PowerPoint, Outlook, Publisher, A...   \n",
       "15  Word, Excel, PowerPoint, OneNote, Outlook, Pub...   \n",
       "16  Word, Excel, PowerPoint, OneNote, Outlook, Pub...   \n",
       "17  Word, Excel, PowerPoint, OneNote, Outlook, Pub...   \n",
       "\n",
       "                                                    3  \n",
       "0                                               Notes  \n",
       "1                                                      \n",
       "2                                                      \n",
       "3                 Last version to support Windows 3.0  \n",
       "4                        Later rebranded as Office 92  \n",
       "5                                                      \n",
       "6   This is the last 16-bit version. This means th...  \n",
       "7                              Runs on Windows NT 3.5  \n",
       "8   Coincided with the Windows 95 operating system...  \n",
       "9   Was published on CD-ROM as well as on a set of...  \n",
       "10                                               None  \n",
       "11  First Version to Support Windows XP, Windows S...  \n",
       "12  Last version to support Windows 98, Windows ME...  \n",
       "13  First version to introduce Windows XP style ic...  \n",
       "14  Broadly released alongside Windows Vista. Firs...  \n",
       "15  This is the first version to ship in 32-bit an...  \n",
       "16  Lync is replaced with Skype for Business after...  \n",
       "17  Last version to support Windows 7, Windows 8, ...  "
      ]
     },
     "execution_count": 31,
     "metadata": {},
     "output_type": "execute_result"
    }
   ],
   "source": [
    "df"
   ]
  },
  {
   "cell_type": "markdown",
   "metadata": {},
   "source": [
    "Export the dataframe to a csv."
   ]
  },
  {
   "cell_type": "code",
   "execution_count": 32,
   "metadata": {},
   "outputs": [],
   "source": [
    "df.to_csv('office_versions.csv', sep=',')"
   ]
  }
 ],
 "metadata": {
  "kernelspec": {
   "display_name": "Python 3",
   "language": "python",
   "name": "python3"
  },
  "language_info": {
   "codemirror_mode": {
    "name": "ipython",
    "version": 3
   },
   "file_extension": ".py",
   "mimetype": "text/x-python",
   "name": "python",
   "nbconvert_exporter": "python",
   "pygments_lexer": "ipython3",
   "version": "3.6.5"
  }
 },
 "nbformat": 4,
 "nbformat_minor": 2
}
